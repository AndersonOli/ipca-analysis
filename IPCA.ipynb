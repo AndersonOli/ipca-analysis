{
  "nbformat": 4,
  "nbformat_minor": 0,
  "metadata": {
    "colab": {
      "name": "IPCA.ipynb",
      "provenance": [],
      "toc_visible": true
    },
    "kernelspec": {
      "name": "python3",
      "display_name": "Python 3"
    },
    "language_info": {
      "name": "python"
    }
  },
  "cells": [
    {
      "cell_type": "code",
      "execution_count": null,
      "metadata": {
        "id": "UPOKvuUwS9RU"
      },
      "outputs": [],
      "source": [
        "import numpy as np\n",
        "import tensorflow as tf\n",
        "import pandas as pd\n",
        "from tensorflow import keras\n",
        "from tensorflow.keras import layers\n",
        "from sklearn.model_selection import train_test_split"
      ]
    },
    {
      "cell_type": "code",
      "source": [
        "# Sobre o dataset\n",
        "\n",
        "vendas_dataset = pd.read_csv('/content/drive/MyDrive/Colab Notebooks/VendasTesouroDireto.csv', delimiter=';')\n",
        "vendas_dataset.head()"
      ],
      "metadata": {
        "colab": {
          "base_uri": "https://localhost:8080/",
          "height": 206
        },
        "id": "nqG_uhETWG6M",
        "outputId": "c28eb7b7-9b64-4c03-ebb4-35f887a74a1d"
      },
      "execution_count": null,
      "outputs": [
        {
          "output_type": "execute_result",
          "data": {
            "text/plain": [
              "                          Tipo Titulo Vencimento do Titulo  Data Venda  \\\n",
              "0                   Tesouro Prefixado           01/01/2011  02/12/2008   \n",
              "1                   Tesouro Prefixado           01/07/2010  02/12/2008   \n",
              "2  Tesouro IPCA+ com Juros Semestrais           15/05/2045  02/12/2008   \n",
              "3  Tesouro IPCA+ com Juros Semestrais           15/05/2015  03/12/2008   \n",
              "4                   Tesouro Prefixado           01/10/2009  03/12/2008   \n",
              "\n",
              "            PU Quantidade       Valor  \n",
              "0   744,218936    2173,00  1617187,74  \n",
              "1   803,841820    1629,60  1309940,62  \n",
              "2  1381,238065     309,20   427078,80  \n",
              "3  1534,151632      98,00   150346,85  \n",
              "4   897,970060     525,40   471793,46  "
            ],
            "text/html": [
              "\n",
              "  <div id=\"df-73d9f544-bc0f-4fa3-a3b3-cdbc15c5ae58\">\n",
              "    <div class=\"colab-df-container\">\n",
              "      <div>\n",
              "<style scoped>\n",
              "    .dataframe tbody tr th:only-of-type {\n",
              "        vertical-align: middle;\n",
              "    }\n",
              "\n",
              "    .dataframe tbody tr th {\n",
              "        vertical-align: top;\n",
              "    }\n",
              "\n",
              "    .dataframe thead th {\n",
              "        text-align: right;\n",
              "    }\n",
              "</style>\n",
              "<table border=\"1\" class=\"dataframe\">\n",
              "  <thead>\n",
              "    <tr style=\"text-align: right;\">\n",
              "      <th></th>\n",
              "      <th>Tipo Titulo</th>\n",
              "      <th>Vencimento do Titulo</th>\n",
              "      <th>Data Venda</th>\n",
              "      <th>PU</th>\n",
              "      <th>Quantidade</th>\n",
              "      <th>Valor</th>\n",
              "    </tr>\n",
              "  </thead>\n",
              "  <tbody>\n",
              "    <tr>\n",
              "      <th>0</th>\n",
              "      <td>Tesouro Prefixado</td>\n",
              "      <td>01/01/2011</td>\n",
              "      <td>02/12/2008</td>\n",
              "      <td>744,218936</td>\n",
              "      <td>2173,00</td>\n",
              "      <td>1617187,74</td>\n",
              "    </tr>\n",
              "    <tr>\n",
              "      <th>1</th>\n",
              "      <td>Tesouro Prefixado</td>\n",
              "      <td>01/07/2010</td>\n",
              "      <td>02/12/2008</td>\n",
              "      <td>803,841820</td>\n",
              "      <td>1629,60</td>\n",
              "      <td>1309940,62</td>\n",
              "    </tr>\n",
              "    <tr>\n",
              "      <th>2</th>\n",
              "      <td>Tesouro IPCA+ com Juros Semestrais</td>\n",
              "      <td>15/05/2045</td>\n",
              "      <td>02/12/2008</td>\n",
              "      <td>1381,238065</td>\n",
              "      <td>309,20</td>\n",
              "      <td>427078,80</td>\n",
              "    </tr>\n",
              "    <tr>\n",
              "      <th>3</th>\n",
              "      <td>Tesouro IPCA+ com Juros Semestrais</td>\n",
              "      <td>15/05/2015</td>\n",
              "      <td>03/12/2008</td>\n",
              "      <td>1534,151632</td>\n",
              "      <td>98,00</td>\n",
              "      <td>150346,85</td>\n",
              "    </tr>\n",
              "    <tr>\n",
              "      <th>4</th>\n",
              "      <td>Tesouro Prefixado</td>\n",
              "      <td>01/10/2009</td>\n",
              "      <td>03/12/2008</td>\n",
              "      <td>897,970060</td>\n",
              "      <td>525,40</td>\n",
              "      <td>471793,46</td>\n",
              "    </tr>\n",
              "  </tbody>\n",
              "</table>\n",
              "</div>\n",
              "      <button class=\"colab-df-convert\" onclick=\"convertToInteractive('df-73d9f544-bc0f-4fa3-a3b3-cdbc15c5ae58')\"\n",
              "              title=\"Convert this dataframe to an interactive table.\"\n",
              "              style=\"display:none;\">\n",
              "        \n",
              "  <svg xmlns=\"http://www.w3.org/2000/svg\" height=\"24px\"viewBox=\"0 0 24 24\"\n",
              "       width=\"24px\">\n",
              "    <path d=\"M0 0h24v24H0V0z\" fill=\"none\"/>\n",
              "    <path d=\"M18.56 5.44l.94 2.06.94-2.06 2.06-.94-2.06-.94-.94-2.06-.94 2.06-2.06.94zm-11 1L8.5 8.5l.94-2.06 2.06-.94-2.06-.94L8.5 2.5l-.94 2.06-2.06.94zm10 10l.94 2.06.94-2.06 2.06-.94-2.06-.94-.94-2.06-.94 2.06-2.06.94z\"/><path d=\"M17.41 7.96l-1.37-1.37c-.4-.4-.92-.59-1.43-.59-.52 0-1.04.2-1.43.59L10.3 9.45l-7.72 7.72c-.78.78-.78 2.05 0 2.83L4 21.41c.39.39.9.59 1.41.59.51 0 1.02-.2 1.41-.59l7.78-7.78 2.81-2.81c.8-.78.8-2.07 0-2.86zM5.41 20L4 18.59l7.72-7.72 1.47 1.35L5.41 20z\"/>\n",
              "  </svg>\n",
              "      </button>\n",
              "      \n",
              "  <style>\n",
              "    .colab-df-container {\n",
              "      display:flex;\n",
              "      flex-wrap:wrap;\n",
              "      gap: 12px;\n",
              "    }\n",
              "\n",
              "    .colab-df-convert {\n",
              "      background-color: #E8F0FE;\n",
              "      border: none;\n",
              "      border-radius: 50%;\n",
              "      cursor: pointer;\n",
              "      display: none;\n",
              "      fill: #1967D2;\n",
              "      height: 32px;\n",
              "      padding: 0 0 0 0;\n",
              "      width: 32px;\n",
              "    }\n",
              "\n",
              "    .colab-df-convert:hover {\n",
              "      background-color: #E2EBFA;\n",
              "      box-shadow: 0px 1px 2px rgba(60, 64, 67, 0.3), 0px 1px 3px 1px rgba(60, 64, 67, 0.15);\n",
              "      fill: #174EA6;\n",
              "    }\n",
              "\n",
              "    [theme=dark] .colab-df-convert {\n",
              "      background-color: #3B4455;\n",
              "      fill: #D2E3FC;\n",
              "    }\n",
              "\n",
              "    [theme=dark] .colab-df-convert:hover {\n",
              "      background-color: #434B5C;\n",
              "      box-shadow: 0px 1px 3px 1px rgba(0, 0, 0, 0.15);\n",
              "      filter: drop-shadow(0px 1px 2px rgba(0, 0, 0, 0.3));\n",
              "      fill: #FFFFFF;\n",
              "    }\n",
              "  </style>\n",
              "\n",
              "      <script>\n",
              "        const buttonEl =\n",
              "          document.querySelector('#df-73d9f544-bc0f-4fa3-a3b3-cdbc15c5ae58 button.colab-df-convert');\n",
              "        buttonEl.style.display =\n",
              "          google.colab.kernel.accessAllowed ? 'block' : 'none';\n",
              "\n",
              "        async function convertToInteractive(key) {\n",
              "          const element = document.querySelector('#df-73d9f544-bc0f-4fa3-a3b3-cdbc15c5ae58');\n",
              "          const dataTable =\n",
              "            await google.colab.kernel.invokeFunction('convertToInteractive',\n",
              "                                                     [key], {});\n",
              "          if (!dataTable) return;\n",
              "\n",
              "          const docLinkHtml = 'Like what you see? Visit the ' +\n",
              "            '<a target=\"_blank\" href=https://colab.research.google.com/notebooks/data_table.ipynb>data table notebook</a>'\n",
              "            + ' to learn more about interactive tables.';\n",
              "          element.innerHTML = '';\n",
              "          dataTable['output_type'] = 'display_data';\n",
              "          await google.colab.output.renderOutput(dataTable, element);\n",
              "          const docLink = document.createElement('div');\n",
              "          docLink.innerHTML = docLinkHtml;\n",
              "          element.appendChild(docLink);\n",
              "        }\n",
              "      </script>\n",
              "    </div>\n",
              "  </div>\n",
              "  "
            ]
          },
          "metadata": {},
          "execution_count": 2
        }
      ]
    },
    {
      "cell_type": "code",
      "source": [
        "X = vendas_dataset['Valor'].str.replace(r'\\D+', '', regex=True).astype('float64')\n",
        "Y = vendas_dataset['Quantidade'].str.replace(r'\\D+', '', regex=True).astype('int')\n",
        "\n",
        "x_train , x_test, y_train, y_test = train_test_split(X, Y)\n",
        "\n",
        "print(\"Tamanho do treino:\", x_train.shape)\n",
        "print(\"Tamanho do teste\", x_test.shape)\n",
        "print(max(X))"
      ],
      "metadata": {
        "colab": {
          "base_uri": "https://localhost:8080/"
        },
        "id": "dHPnddhmY0H2",
        "outputId": "c4492b2c-8359-4aef-9aed-888ae671df2e"
      },
      "execution_count": null,
      "outputs": [
        {
          "output_type": "stream",
          "name": "stdout",
          "text": [
            "Tamanho do treino: (51381,)\n",
            "Tamanho do teste (17128,)\n",
            "66936718062.0\n"
          ]
        }
      ]
    },
    {
      "cell_type": "code",
      "source": [
        "model = keras.models.Sequential()\n",
        "model.add(layers.SimpleRNN(\n",
        "    128, \n",
        "    input_shape=(256,1),\n",
        "    return_sequences=False,\n",
        "    recurrent_dropout=0.1,\n",
        "    activation='relu'\n",
        "))\n",
        "model.add(layers.Dense(units=32))\n",
        "model.add(layers.Activation('softmax'))\n",
        "model.summary()"
      ],
      "metadata": {
        "colab": {
          "base_uri": "https://localhost:8080/"
        },
        "id": "r03ytoe_VQiq",
        "outputId": "5d126f0f-f2ca-4295-aa06-49288a1da4d3"
      },
      "execution_count": null,
      "outputs": [
        {
          "output_type": "stream",
          "name": "stdout",
          "text": [
            "Model: \"sequential_5\"\n",
            "_________________________________________________________________\n",
            " Layer (type)                Output Shape              Param #   \n",
            "=================================================================\n",
            " simple_rnn_5 (SimpleRNN)    (None, 128)               16640     \n",
            "                                                                 \n",
            " dense_5 (Dense)             (None, 32)                4128      \n",
            "                                                                 \n",
            " activation_5 (Activation)   (None, 32)                0         \n",
            "                                                                 \n",
            "=================================================================\n",
            "Total params: 20,768\n",
            "Trainable params: 20,768\n",
            "Non-trainable params: 0\n",
            "_________________________________________________________________\n"
          ]
        }
      ]
    },
    {
      "cell_type": "code",
      "source": [
        "batch_size = 128\n",
        "epochs = 10\n",
        "\n",
        "model.compile(\n",
        "    loss='mean_absolute_percentage_error', \n",
        "    optimizer='adam',\n",
        "    metrics=[\n",
        "        'MeanSquaredError',\n",
        "    ]\n",
        ")\n",
        "\n",
        "model.fit(\n",
        "    x_train, y_train, batch_size=batch_size, epochs=epochs, verbose=1\n",
        ")\n"
      ],
      "metadata": {
        "colab": {
          "base_uri": "https://localhost:8080/"
        },
        "id": "o-djHxyrV2fM",
        "outputId": "5613401a-73fc-49e6-9549-4938c1ad3d92"
      },
      "execution_count": null,
      "outputs": [
        {
          "output_type": "stream",
          "name": "stdout",
          "text": [
            "Epoch 1/10\n",
            "WARNING:tensorflow:Model was constructed with shape (None, 256, 1) for input KerasTensor(type_spec=TensorSpec(shape=(None, 256, 1), dtype=tf.float32, name='simple_rnn_5_input'), name='simple_rnn_5_input', description=\"created by layer 'simple_rnn_5_input'\"), but it was called on an input with incompatible shape (None, 1, 1).\n",
            "WARNING:tensorflow:Model was constructed with shape (None, 256, 1) for input KerasTensor(type_spec=TensorSpec(shape=(None, 256, 1), dtype=tf.float32, name='simple_rnn_5_input'), name='simple_rnn_5_input', description=\"created by layer 'simple_rnn_5_input'\"), but it was called on an input with incompatible shape (None, 1, 1).\n",
            "402/402 [==============================] - 3s 4ms/step - loss: 99.9974 - mean_squared_error: 178613649408.0000\n",
            "Epoch 2/10\n",
            "402/402 [==============================] - 2s 4ms/step - loss: 99.9974 - mean_squared_error: 178613731328.0000\n",
            "Epoch 3/10\n",
            "402/402 [==============================] - 2s 5ms/step - loss: 99.9974 - mean_squared_error: 178613665792.0000\n",
            "Epoch 4/10\n",
            "402/402 [==============================] - 2s 4ms/step - loss: 99.9974 - mean_squared_error: 178613764096.0000\n",
            "Epoch 5/10\n",
            "402/402 [==============================] - 1s 4ms/step - loss: 99.9974 - mean_squared_error: 178613796864.0000\n",
            "Epoch 6/10\n",
            "402/402 [==============================] - 2s 4ms/step - loss: 99.9974 - mean_squared_error: 178613682176.0000\n",
            "Epoch 7/10\n",
            "402/402 [==============================] - 2s 4ms/step - loss: 99.9973 - mean_squared_error: 178613747712.0000\n",
            "Epoch 8/10\n",
            "402/402 [==============================] - 2s 4ms/step - loss: 99.9973 - mean_squared_error: 178613649408.0000\n",
            "Epoch 9/10\n",
            "402/402 [==============================] - 2s 4ms/step - loss: 99.9974 - mean_squared_error: 178613649408.0000\n",
            "Epoch 10/10\n",
            "402/402 [==============================] - 2s 4ms/step - loss: 99.9974 - mean_squared_error: 178613682176.0000\n"
          ]
        },
        {
          "output_type": "execute_result",
          "data": {
            "text/plain": [
              "<keras.callbacks.History at 0x7f3cd1526bd0>"
            ]
          },
          "metadata": {},
          "execution_count": 14
        }
      ]
    },
    {
      "cell_type": "code",
      "source": [
        "test_predict = model.predict(x_test)\n",
        "train_predict = model.predict(x_train)\n",
        "test_predict.shape"
      ],
      "metadata": {
        "colab": {
          "base_uri": "https://localhost:8080/"
        },
        "id": "qrZOovdibJuq",
        "outputId": "0082652a-0d57-4eca-d50f-e56e51357d18"
      },
      "execution_count": null,
      "outputs": [
        {
          "output_type": "execute_result",
          "data": {
            "text/plain": [
              "(17128, 32)"
            ]
          },
          "metadata": {},
          "execution_count": 26
        }
      ]
    },
    {
      "cell_type": "code",
      "source": [
        "import matplotlib.pyplot as plt\n",
        "\n",
        "actual = np.append(y_train, y_test)\n",
        "predictions = np.append(train_predict, test_predict).reshape(68509, 32)\n",
        "rows = len(actual)\n",
        "plt.figure(figsize=(15, 6), dpi=80)\n",
        "plt.plot(range(rows), actual)\n",
        "plt.plot(range(rows), predictions)\n",
        "plt.axvline(x=len(y_train), color='r')\n",
        "plt.legend(['Atual', 'Predições'])\n",
        "plt.xlabel('Etapas')\n",
        "plt.ylabel('Valores')\n",
        "plt.title('Valor atual e predições')"
      ],
      "metadata": {
        "id": "7v_eOpNzbJxH",
        "colab": {
          "base_uri": "https://localhost:8080/",
          "height": 453
        },
        "outputId": "35b4fa0e-ddd6-4302-a37d-1af4d0da0987"
      },
      "execution_count": null,
      "outputs": [
        {
          "output_type": "execute_result",
          "data": {
            "text/plain": [
              "Text(0.5, 1.0, 'Valor atual e predições')"
            ]
          },
          "metadata": {},
          "execution_count": 30
        },
        {
          "output_type": "display_data",
          "data": {
            "text/plain": [
              "<Figure size 1200x480 with 1 Axes>"
            ],
            "image/png": "[encoded data removed]"
          },
          "metadata": {
            "needs_background": "light"
          }
        }
      ]
    },
    {
      "cell_type": "code",
      "source": [
        ""
      ],
      "metadata": {
        "id": "ePppg8uvbJzm"
      },
      "execution_count": null,
      "outputs": []
    },
    {
      "cell_type": "code",
      "source": [
        "%matplotlib inline\n",
        "import matplotlib.pyplot as plt\n",
        "import seaborn as sns; sns.set()\n",
        "import numpy as np"
      ],
      "metadata": {
        "id": "wCBA87AHbJ2X"
      },
      "execution_count": null,
      "outputs": []
    },
    {
      "cell_type": "code",
      "source": [
        "plt.scatter(X, Y);"
      ],
      "metadata": {
        "id": "rIBca_Ydevmb",
        "colab": {
          "base_uri": "https://localhost:8080/",
          "height": 292
        },
        "outputId": "271b4e5d-8151-4145-d9c0-a6a990158ac8"
      },
      "execution_count": null,
      "outputs": [
        {
          "output_type": "display_data",
          "data": {
            "text/plain": [
              "<Figure size 432x288 with 1 Axes>"
            ],
            "image/png": "[encoded data removed]"
          },
          "metadata": {}
        }
      ]
    },
    {
      "cell_type": "code",
      "source": [
        "from sklearn.linear_model import LinearRegression\n",
        "model = LinearRegression(fit_intercept=True)\n",
        "\n",
        "model.fit(X[:, np.newaxis], Y)\n",
        "yfit = model.predict(Y[:, np.newaxis])\n",
        "\n",
        "plt.plot(xfit, yfit);\n",
        "plt.scatter(x, y)"
      ],
      "metadata": {
        "id": "rnKXfXsGevpL",
        "colab": {
          "base_uri": "https://localhost:8080/",
          "height": 399
        },
        "outputId": "54e911e0-955f-413b-c952-628169b264fe"
      },
      "execution_count": null,
      "outputs": [
        {
          "output_type": "stream",
          "name": "stderr",
          "text": [
            "/usr/local/lib/python3.7/dist-packages/ipykernel_launcher.py:4: FutureWarning: Support for multi-dimensional indexing (e.g. `obj[:, None]`) is deprecated and will be removed in a future version.  Convert to a numpy array before indexing instead.\n",
            "  after removing the cwd from sys.path.\n",
            "/usr/local/lib/python3.7/dist-packages/ipykernel_launcher.py:5: FutureWarning: Support for multi-dimensional indexing (e.g. `obj[:, None]`) is deprecated and will be removed in a future version.  Convert to a numpy array before indexing instead.\n",
            "  \"\"\"\n"
          ]
        },
        {
          "output_type": "execute_result",
          "data": {
            "text/plain": [
              "<matplotlib.collections.PathCollection at 0x7f3cc8d63350>"
            ]
          },
          "metadata": {},
          "execution_count": 40
        },
        {
          "output_type": "display_data",
          "data": {
            "text/plain": [
              "<Figure size 432x288 with 1 Axes>"
            ],
            "image/png": "[encoded data removed]"
          },
          "metadata": {}
        }
      ]
    },
    {
      "cell_type": "code",
      "source": [
        "\n"
      ],
      "metadata": {
        "id": "UNVngbS6tLDE"
      },
      "execution_count": null,
      "outputs": []
    }
  ]
}